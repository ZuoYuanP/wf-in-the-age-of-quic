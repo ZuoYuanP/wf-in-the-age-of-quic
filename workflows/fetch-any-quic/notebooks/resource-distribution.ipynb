{
 "cells": [
  {
   "cell_type": "code",
   "execution_count": 1,
   "metadata": {},
   "outputs": [],
   "source": [
    "import gzip\n",
    "import pandas as pd\n",
    "import json\n",
    "import seaborn as sns\n",
    "import matplotlib.pyplot as plt\n",
    "import warnings\n",
    "import numpy as np\n",
    "\n",
    "MONITORED_INPUT = \"../results/resource-protocol-counts/monitored-counts.json.gz\"\n",
    "UNMONITORED_INPUT = \"../results/resource-protocol-counts/unmonitored-counts.json.gz\"\n",
    "PLOT = \"../results/plots/quic-resource-dist.pgf\"\n",
    "\n",
    "plt.style.use(\"./mpl-style/pets.mplstyle\")"
   ]
  },
  {
   "cell_type": "code",
   "execution_count": 2,
   "metadata": {},
   "outputs": [],
   "source": [
    "def load_data(path):\n",
    "    \"\"\"Load the number of resources retrieved with QUIC vs TCP,\n",
    "    discarding blob and data resources.\n",
    "    \"\"\"\n",
    "    with gzip.open(path) as count_file:\n",
    "        result = pd.DataFrame.from_records(json.loads(line) for line in count_file)\n",
    "    \n",
    "    result = (result.fillna(0).set_index([\"url\", \"req_proto\"])\n",
    "              .drop(columns=[\"data\", \"blob\"]))\n",
    "    \n",
    "    quic_columns = [col for col in result.columns if \"quic\" in col]\n",
    "    assert len(quic_columns) == 1\n",
    "    print(f\"Columns are: {list(result.columns)}\")\n",
    "    \n",
    "    result[\"tcp\"] = result.drop(columns=quic_columns).sum(axis=1) \n",
    "    result = result.rename(columns={\"http/2+quic/46\": \"quic\"})\n",
    "    return result[[\"quic\", \"tcp\"]].reset_index().rename(columns={\"req_proto\": \"requested\"})"
   ]
  },
  {
   "cell_type": "code",
   "execution_count": 3,
   "metadata": {},
   "outputs": [],
   "source": [
    "def check_quic_requests(data):\n",
    "    result = (data[(data[\"requested\"] == \"quic\") & (data[\"quic\"] == 0)]\n",
    "              .groupby(\"url\").size().sort_values(ascending=False))\n",
    "    \n",
    "    if len(result) > 0:\n",
    "        warnings.warn(\"A total of {} (of {}) URLs over {} samples were requested with \"\n",
    "                      \"QUIC but delivered with only TCP.\".format(\n",
    "                          len(result), data[\"url\"].nunique(), result.sum())\n",
    "                     )"
   ]
  },
  {
   "cell_type": "code",
   "execution_count": 4,
   "metadata": {},
   "outputs": [],
   "source": [
    "def check_tcp_requests(data):\n",
    "    result = (data[(data[\"requested\"] == \"tcp\") & (data[\"quic\"] > 0)]\n",
    "              .groupby(\"url\").size().sort_values(ascending=False))\n",
    "    \n",
    "    if len(result) > 0:\n",
    "        warnings.warn(\n",
    "            \"A total of {} (of {}) URLs over {} samples were requested with TCP but had used QUIC.\".format(\n",
    "                len(result), data[\"url\"].nunique(), result.sum()\n",
    "            ))"
   ]
  },
  {
   "cell_type": "code",
   "execution_count": 5,
   "metadata": {},
   "outputs": [],
   "source": [
    "def load_and_check_data(filename):\n",
    "    data = load_data(filename)\n",
    "    check_quic_requests(data)\n",
    "    check_tcp_requests(data)\n",
    "    \n",
    "    return (data\n",
    "            .set_index([\"url\", \"requested\"], append=True)\n",
    "            .xs(\"quic\", level=\"requested\")\n",
    "            .rename(columns=str.upper))\n",
    "\n",
    "def wide(data):\n",
    "    return data\n",
    "\n",
    "def long(data):\n",
    "    return data.melt(var_name=\"response\", value_name=\"count\")"
   ]
  },
  {
   "cell_type": "code",
   "execution_count": 6,
   "metadata": {},
   "outputs": [
    {
     "name": "stdout",
     "output_type": "stream",
     "text": [
      "Columns are: ['h2', 'http/2+quic/46', 'http/1.1']\n"
     ]
    },
    {
     "name": "stderr",
     "output_type": "stream",
     "text": [
      "/home/jsmith/Projects/quic-traffic-analysis/env/lib/python3.7/site-packages/ipykernel_launcher.py:8: UserWarning: A total of 1 (of 132) URLs over 120 samples were requested with QUIC but delivered with only TCP.\n",
      "  \n"
     ]
    },
    {
     "data": {
      "text/html": [
       "<div>\n",
       "<style scoped>\n",
       "    .dataframe tbody tr th:only-of-type {\n",
       "        vertical-align: middle;\n",
       "    }\n",
       "\n",
       "    .dataframe tbody tr th {\n",
       "        vertical-align: top;\n",
       "    }\n",
       "\n",
       "    .dataframe thead th {\n",
       "        text-align: right;\n",
       "    }\n",
       "</style>\n",
       "<table border=\"1\" class=\"dataframe\">\n",
       "  <thead>\n",
       "    <tr style=\"text-align: right;\">\n",
       "      <th></th>\n",
       "      <th>QUIC</th>\n",
       "      <th>TCP</th>\n",
       "    </tr>\n",
       "  </thead>\n",
       "  <tbody>\n",
       "    <tr>\n",
       "      <th>median</th>\n",
       "      <td>43.000000</td>\n",
       "      <td>14.000000</td>\n",
       "    </tr>\n",
       "    <tr>\n",
       "      <th>mean</th>\n",
       "      <td>52.949618</td>\n",
       "      <td>23.942047</td>\n",
       "    </tr>\n",
       "    <tr>\n",
       "      <th>sum</th>\n",
       "      <td>790326.000000</td>\n",
       "      <td>357359.000000</td>\n",
       "    </tr>\n",
       "  </tbody>\n",
       "</table>\n",
       "</div>"
      ],
      "text/plain": [
       "                 QUIC            TCP\n",
       "median      43.000000      14.000000\n",
       "mean        52.949618      23.942047\n",
       "sum     790326.000000  357359.000000"
      ]
     },
     "metadata": {},
     "output_type": "display_data"
    }
   ],
   "source": [
    "monitored = load_and_check_data(MONITORED_INPUT)\n",
    "display(monitored.agg([\"median\", \"mean\", \"sum\"]))"
   ]
  },
  {
   "cell_type": "code",
   "execution_count": 7,
   "metadata": {},
   "outputs": [
    {
     "name": "stdout",
     "output_type": "stream",
     "text": [
      "Columns are: ['h2', 'http/2+quic/46', 'http/1.1', 'http/1.0']\n"
     ]
    },
    {
     "name": "stderr",
     "output_type": "stream",
     "text": [
      "/home/jsmith/Projects/quic-traffic-analysis/env/lib/python3.7/site-packages/ipykernel_launcher.py:8: UserWarning: A total of 63 (of 17061) URLs over 171 samples were requested with QUIC but delivered with only TCP.\n",
      "  \n"
     ]
    },
    {
     "data": {
      "text/html": [
       "<div>\n",
       "<style scoped>\n",
       "    .dataframe tbody tr th:only-of-type {\n",
       "        vertical-align: middle;\n",
       "    }\n",
       "\n",
       "    .dataframe tbody tr th {\n",
       "        vertical-align: top;\n",
       "    }\n",
       "\n",
       "    .dataframe thead th {\n",
       "        text-align: right;\n",
       "    }\n",
       "</style>\n",
       "<table border=\"1\" class=\"dataframe\">\n",
       "  <thead>\n",
       "    <tr style=\"text-align: right;\">\n",
       "      <th></th>\n",
       "      <th>QUIC</th>\n",
       "      <th>TCP</th>\n",
       "    </tr>\n",
       "  </thead>\n",
       "  <tbody>\n",
       "    <tr>\n",
       "      <th>median</th>\n",
       "      <td>4.000000e+01</td>\n",
       "      <td>1.200000e+01</td>\n",
       "    </tr>\n",
       "    <tr>\n",
       "      <th>mean</th>\n",
       "      <td>5.023694e+01</td>\n",
       "      <td>1.995423e+01</td>\n",
       "    </tr>\n",
       "    <tr>\n",
       "      <th>sum</th>\n",
       "      <td>2.528978e+06</td>\n",
       "      <td>1.004516e+06</td>\n",
       "    </tr>\n",
       "  </tbody>\n",
       "</table>\n",
       "</div>"
      ],
      "text/plain": [
       "                QUIC           TCP\n",
       "median  4.000000e+01  1.200000e+01\n",
       "mean    5.023694e+01  1.995423e+01\n",
       "sum     2.528978e+06  1.004516e+06"
      ]
     },
     "metadata": {},
     "output_type": "display_data"
    }
   ],
   "source": [
    "unmonitored = load_and_check_data(UNMONITORED_INPUT)\n",
    "display(unmonitored.agg([\"median\", \"mean\", \"sum\"]))"
   ]
  },
  {
   "cell_type": "code",
   "execution_count": 8,
   "metadata": {},
   "outputs": [],
   "source": [
    "import matplotlib.ticker as mticker\n",
    "    \n",
    "def plot_histogram(data, ax):\n",
    "    sns.histplot(data=long(data), hue=\"response\", x=\"count\", stat=\"density\", binwidth=5, ax=ax,\n",
    "                 palette=\"Dark2\", hue_order=[\"TCP\", \"QUIC\"], common_bins=True,\n",
    "                 common_norm=True)\n",
    "    ax.set_ylim(top=.021)\n",
    "    ax.set_yticks([0, .01, .02])\n",
    "    ax.set_xticks([0, 50, 100, 150])\n",
    "    ax.set_xlabel(\"Number of Resources\\nReturned\")\n",
    "    ax.get_legend().set_title(None)\n",
    "    \n",
    "    sns.despine(left=True, top=True, right=True, ax=ax)\n",
    "    ax.grid(False, axis=\"x\")\n",
    "    \n",
    "def plot_ecdf(monitored, unmonitored, ax):\n",
    "    keys = [\"Monitored\", \"Unmonitored\"]\n",
    "    \n",
    "    data = pd.concat([monitored, unmonitored], keys=keys, names=[\"Traces\"])\n",
    "    data = (data[\"QUIC\"] - data[\"TCP\"]).rename(\"diff\").reset_index(\"Traces\")\n",
    "    \n",
    "    display(data.groupby(\"Traces\").apply(lambda x: np.sum(x <= 0)/len(x)))\n",
    "    display(data.groupby(\"Traces\").apply(lambda x: np.sum(x >= 64)/len(x)))\n",
    "    \n",
    "    sns.ecdfplot(data=data, x=\"diff\", hue=\"Traces\", hue_order=keys, palette=\"binary\", ax=ax)\n",
    "    for line, style, label in zip(ax.get_lines(), [\"--\", \"-\"], keys):\n",
    "        line.set_linestyle(style)\n",
    "        line.set_label(label)\n",
    "    ax.legend(handles=ax.get_lines(), title=\"Traces\")\n",
    "    \n",
    "    ax.vlines(0, ymin=-0.05, ymax=1.05, colors=\"#aaaaaa\")\n",
    "    \n",
    "    ax.set_ylabel(\"ECDF\")\n",
    "    ax.set_ylim(-0.05, 1.05)\n",
    "    \n",
    "    ax.set_xlabel(\"$\\log_8 ($QUIC $-$ TCP$)$\\nResources\")\n",
    "    ax.set_xscale(\"symlog\", linthreshx=1, linscalex=.125, basex=8)\n",
    "    # ax.xaxis.set_major_formatter(mticker.FuncFormatter(lambda x, _: \"%i\" % x))\n",
    "    ax.xaxis.set_major_formatter(mticker.ScalarFormatter())\n",
    "    ax.set_xticks([-512, -64, -8, 0, 8, 64, 512])\n",
    "    # ax.set_yticks([0, .16, .25, .5, .75, 1])\n",
    "    \n",
    "    sns.despine(left=True, top=True, right=True, bottom=True, ax=ax)"
   ]
  },
  {
   "cell_type": "code",
   "execution_count": 9,
   "metadata": {},
   "outputs": [
    {
     "data": {
      "text/html": [
       "<div>\n",
       "<style scoped>\n",
       "    .dataframe tbody tr th:only-of-type {\n",
       "        vertical-align: middle;\n",
       "    }\n",
       "\n",
       "    .dataframe tbody tr th {\n",
       "        vertical-align: top;\n",
       "    }\n",
       "\n",
       "    .dataframe thead th {\n",
       "        text-align: right;\n",
       "    }\n",
       "</style>\n",
       "<table border=\"1\" class=\"dataframe\">\n",
       "  <thead>\n",
       "    <tr style=\"text-align: right;\">\n",
       "      <th></th>\n",
       "      <th>diff</th>\n",
       "    </tr>\n",
       "    <tr>\n",
       "      <th>Traces</th>\n",
       "      <th></th>\n",
       "    </tr>\n",
       "  </thead>\n",
       "  <tbody>\n",
       "    <tr>\n",
       "      <th>Monitored</th>\n",
       "      <td>0.160257</td>\n",
       "    </tr>\n",
       "    <tr>\n",
       "      <th>Unmonitored</th>\n",
       "      <td>0.162492</td>\n",
       "    </tr>\n",
       "  </tbody>\n",
       "</table>\n",
       "</div>"
      ],
      "text/plain": [
       "                 diff\n",
       "Traces               \n",
       "Monitored    0.160257\n",
       "Unmonitored  0.162492"
      ]
     },
     "metadata": {},
     "output_type": "display_data"
    },
    {
     "data": {
      "text/html": [
       "<div>\n",
       "<style scoped>\n",
       "    .dataframe tbody tr th:only-of-type {\n",
       "        vertical-align: middle;\n",
       "    }\n",
       "\n",
       "    .dataframe tbody tr th {\n",
       "        vertical-align: top;\n",
       "    }\n",
       "\n",
       "    .dataframe thead th {\n",
       "        text-align: right;\n",
       "    }\n",
       "</style>\n",
       "<table border=\"1\" class=\"dataframe\">\n",
       "  <thead>\n",
       "    <tr style=\"text-align: right;\">\n",
       "      <th></th>\n",
       "      <th>diff</th>\n",
       "    </tr>\n",
       "    <tr>\n",
       "      <th>Traces</th>\n",
       "      <th></th>\n",
       "    </tr>\n",
       "  </thead>\n",
       "  <tbody>\n",
       "    <tr>\n",
       "      <th>Monitored</th>\n",
       "      <td>0.179284</td>\n",
       "    </tr>\n",
       "    <tr>\n",
       "      <th>Unmonitored</th>\n",
       "      <td>0.167398</td>\n",
       "    </tr>\n",
       "  </tbody>\n",
       "</table>\n",
       "</div>"
      ],
      "text/plain": [
       "                 diff\n",
       "Traces               \n",
       "Monitored    0.179284\n",
       "Unmonitored  0.167398"
      ]
     },
     "metadata": {},
     "output_type": "display_data"
    },
    {
     "data": {
      "image/png": "[encoded data removed]",
      "text/plain": [
       "<Figure size 480x276 with 3 Axes>"
      ]
     },
     "metadata": {},
     "output_type": "display_data"
    }
   ],
   "source": [
    "def plot(monitored, unmonitored):\n",
    "    with plt.style.context([\n",
    "        \"mpl-style/pets.mplstyle\",  \"mpl-style/white-grid.mplstyle\",\n",
    "    ]):\n",
    "        figure = plt.figure(constrained_layout=True, figsize=(4, 2.3), dpi=120)\n",
    "        spec = figure.add_gridspec(2, 2)\n",
    "        axes = [figure.add_subplot(spec[0, 0])]\n",
    "        axes.append(figure.add_subplot(spec[1, 0], sharex=axes[0]))\n",
    "        axes.append(figure.add_subplot(spec[:, 1]))\n",
    "                     \n",
    "        plt.setp(axes[0].get_xticklabels(), visible=False)\n",
    "    \n",
    "        plot_histogram(monitored, axes[0])\n",
    "        axes[0].set_title(\"Monitored\")\n",
    "        axes[0].set_xlim(-3, 175)\n",
    "        \n",
    "        plot_histogram(unmonitored, axes[1])\n",
    "        axes[1].set_title(\"Unmonitored\")\n",
    "        axes[1].get_legend().remove()\n",
    "        \n",
    "        plot_ecdf(monitored, unmonitored, axes[2])\n",
    "        \n",
    "    return figure\n",
    "        \n",
    "\n",
    "figure = plot(monitored, unmonitored)\n",
    "figure.savefig(PLOT, dpi=150, bbox_inches=\"tight\")"
   ]
  }
 ],
 "metadata": {
  "kernelspec": {
   "display_name": "Python 3",
   "language": "python",
   "name": "python3"
  },
  "language_info": {
   "codemirror_mode": {
    "name": "ipython",
    "version": 3
   },
   "file_extension": ".py",
   "mimetype": "text/x-python",
   "name": "python",
   "nbconvert_exporter": "python",
   "pygments_lexer": "ipython3",
   "version": "3.7.5"
  }
 },
 "nbformat": 4,
 "nbformat_minor": 4
}
